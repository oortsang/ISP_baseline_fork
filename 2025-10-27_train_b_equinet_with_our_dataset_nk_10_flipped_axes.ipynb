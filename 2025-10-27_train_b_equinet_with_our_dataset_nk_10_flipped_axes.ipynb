{
 "cells": [
  {
   "cell_type": "markdown",
   "id": "ed164b70-fb54-4fd4-936c-a0f2e2354121",
   "metadata": {},
   "source": [
    "# Imports"
   ]
  },
  {
   "cell_type": "code",
   "execution_count": 1,
   "id": "dd3224e2-b6f3-49c6-a2dd-b02427ddde77",
   "metadata": {},
   "outputs": [],
   "source": [
    "import functools\n",
    "import os\n",
    "import time\n",
    "os.environ[\"XLA_PYTHON_CLIENT_MEM_FRACTION\"] = \"0.99\"\n",
    "\n",
    "import numpy as np\n",
    "import matplotlib.pyplot as plt\n",
    "\n",
    "import jax\n",
    "import jax.numpy as jnp\n",
    "from jax.experimental import sparse\n",
    "jax_device = jax.devices(\"gpu\")[0]\n",
    "jax.config.update(\"jax_default_device\", jax_device)\n",
    "\n",
    "import optax\n",
    "import orbax.checkpoint as ocp\n",
    "from clu import metric_writers\n",
    "\n",
    "import h5py\n",
    "import natsort\n",
    "import tensorflow as tf\n",
    "from scipy.ndimage import geometric_transform\n",
    "from scipy.ndimage import gaussian_filter"
   ]
  },
  {
   "cell_type": "code",
   "execution_count": 2,
   "id": "fec49c61-82cd-4100-8c23-c15163b25784",
   "metadata": {},
   "outputs": [
    {
     "name": "stdout",
     "output_type": "stream",
     "text": [
      "Pysteps configuration file found at: /share/data/willett-group/oortsang/miniconda/envs/jaxisp-v3/lib/python3.13/site-packages/pysteps/pystepsrc\n",
      "\n"
     ]
    }
   ],
   "source": [
    "from ISP_baseline.src import models, trainers, utils\n",
    "from ISP_baseline.models import Compressed, Uncompressed \n",
    "\n",
    "from swirl_dynamics import templates\n",
    "from swirl_dynamics.lib import metrics\n",
    "from pysteps.utils.spectral import rapsd"
   ]
  },
  {
   "cell_type": "code",
   "execution_count": 3,
   "id": "eaa0efa9-4223-4100-95d0-cee9bef10851",
   "metadata": {},
   "outputs": [],
   "source": [
    "# For use with our MFISNet-style dataset\n",
    "import os\n",
    "from ISP_baseline.src.data_io import (\n",
    "    load_hdf5_to_dict,\n",
    "    load_cart_multifreq_dataset,\n",
    "    load_single_dir_slice,\n",
    "    load_multi_dir_slice,\n",
    "    get_multifreq_dset_dirs,\n",
    ")\n",
    "from ISP_baseline.src.datasets import (\n",
    "    convert_mfisnet_data_dict,\n",
    "    setup_tf_dataset,\n",
    "    get_io_mean_std,\n",
    ")\n",
    "from ISP_baseline.src.more_metrics import (\n",
    "    l2_error,\n",
    ")"
   ]
  },
  {
   "cell_type": "code",
   "execution_count": 4,
   "id": "802b2e78-5208-4d2c-8e36-fb333ab4a158",
   "metadata": {},
   "outputs": [],
   "source": [
    "# To avoid tf to use GPU memory\n",
    "tf.config.set_visible_devices([], device_type='GPU')"
   ]
  },
  {
   "cell_type": "markdown",
   "id": "e2abdd75-21fc-41fb-9c42-f59498a696b6",
   "metadata": {},
   "source": [
    "## Load the dataset"
   ]
  },
  {
   "cell_type": "code",
   "execution_count": 5,
   "id": "b885f2d4-dfbb-4189-8c87-7e49a3587b2a",
   "metadata": {},
   "outputs": [],
   "source": [
    "rlc_repo = os.path.join(\"/\", \"home-nfs\", \"oortsang\", \"rlc-repo\")\n",
    "dataset_dir = os.path.join(rlc_repo, \"dataset\")"
   ]
  },
  {
   "cell_type": "code",
   "execution_count": 6,
   "id": "b2d81e86-55b9-4e42-959c-92554087e7a2",
   "metadata": {},
   "outputs": [],
   "source": [
    "L = 4 # number of levels (even number)\n",
    "s = 12 # leaf size for N_x = 192\n",
    "# s = 5 # leaf size\n",
    "# s = 6\n",
    "# r = 3 # rank\n",
    "r = 3 # rank\n",
    "\n",
    "downsample_ratio = 1\n",
    "s = s // downsample_ratio\n",
    "\n",
    "# Discretization of Omega (n_eta * n_eta).\n",
    "neta = (2**L)*s\n",
    "\n",
    "# Number of sources/detectors (n_sc).\n",
    "# Discretization of the domain of alpha in polar coordinates (n_theta * n_rho).\n",
    "# For simplicity, these values are set equal (n_sc = n_theta = n_rho), facilitating computation.\n",
    "nx = (2**L)*s\n",
    "\n",
    "# Standard deviation for the Gaussian blur.\n",
    "blur_sigma = 0.5\n",
    "\n",
    "# Batch size.\n",
    "batch_size = 16\n",
    "\n",
    "# Number of training datapoints.\n",
    "# NTRAIN = 21000\n",
    "# NTRAIN = 2000 # Reduced for debugging purposes\n",
    "NTRAIN = 1000\n",
    "NVAL   = 1000"
   ]
  },
  {
   "cell_type": "code",
   "execution_count": 7,
   "id": "fc310b0c-1ab8-47d4-977b-8f49c1a4be99",
   "metadata": {},
   "outputs": [],
   "source": [
    "# kbar_str_list = [\"2.5\", \"5\", \"10\"]\n",
    "kbar_str_list = [\"1\", \"2\", \"3\", \"4\", \"5\", \"6\", \"7\", \"8\", \"9\", \"10\"]\n",
    "nk = len(kbar_str_list)"
   ]
  },
  {
   "cell_type": "code",
   "execution_count": 8,
   "id": "0efc367a-135f-443a-a83a-ea18202c2cc0",
   "metadata": {},
   "outputs": [
    {
     "name": "stdout",
     "output_type": "stream",
     "text": [
      "Loaded: x_vals(192,), q_cart(1000, 192, 192), sample_completion(1000,), d_rs(1000, 10, 192, 192)\n"
     ]
    }
   ],
   "source": [
    "train_dirs = get_multifreq_dset_dirs(\n",
    "    \"train\",\n",
    "    kbar_str_list,\n",
    "    base_dir=dataset_dir,\n",
    "    dir_fmt=\"{0}_measurements_nu_{1}\"\n",
    ")\n",
    "train_mfisnet_dd = load_cart_multifreq_dataset(\n",
    "    train_dirs,\n",
    "    global_idx_start=0,\n",
    "    global_idx_end=NTRAIN,\n",
    ")\n",
    "print(f\"Loaded: {', '.join([f'{key}{val.shape}' for (key, val) in train_mfisnet_dd.items()])}\")\n",
    "train_wb_dd = convert_mfisnet_data_dict(\n",
    "    train_mfisnet_dd,\n",
    "    scatter_as_real=True,\n",
    "    real_imag_axis=2,\n",
    "    blur_sigma=blur_sigma,\n",
    "    downsample_ratio=downsample_ratio,\n",
    "    flip_scobj_axes=True,\n",
    ")\n",
    "\n",
    "train_eta     = train_wb_dd[\"eta\"]\n",
    "train_scatter = train_wb_dd[\"scatter\"]\n",
    "# Get mean/std for each\n",
    "(\n",
    "    train_scatter_mean,\n",
    "    train_scatter_std,\n",
    "    train_eta_mean,\n",
    "    train_eta_std\n",
    ") = get_io_mean_std(train_scatter, train_eta)"
   ]
  },
  {
   "cell_type": "code",
   "execution_count": 9,
   "id": "a2c01ca3-aec6-471a-84d0-6252928e3147",
   "metadata": {},
   "outputs": [],
   "source": [
    "train_dataset, train_dloader = setup_tf_dataset(\n",
    "    train_eta,\n",
    "    train_scatter,\n",
    "    batch_size=batch_size,\n",
    "    repeats=True,\n",
    ")"
   ]
  },
  {
   "cell_type": "code",
   "execution_count": 10,
   "id": "852a9d28-a656-4155-babe-ae87c9a5a833",
   "metadata": {},
   "outputs": [
    {
     "name": "stdout",
     "output_type": "stream",
     "text": [
      "Loaded: x_vals(192,), q_cart(1000, 192, 192), sample_completion(1000,), d_rs(1000, 10, 192, 192)\n"
     ]
    }
   ],
   "source": [
    "val_dirs = get_multifreq_dset_dirs(\n",
    "    \"val\",\n",
    "    kbar_str_list,\n",
    "    base_dir=dataset_dir,\n",
    "    dir_fmt=\"{0}_measurements_nu_{1}\"\n",
    ")\n",
    "val_mfisnet_dd = load_cart_multifreq_dataset(\n",
    "    val_dirs,\n",
    "    global_idx_start=0,\n",
    "    global_idx_end=NVAL,\n",
    ")\n",
    "print(f\"Loaded: {', '.join([f'{key}{val.shape}' for (key, val) in val_mfisnet_dd.items()])}\")\n",
    "val_wb_dd = convert_mfisnet_data_dict(\n",
    "    val_mfisnet_dd,\n",
    "    scatter_as_real=True,\n",
    "    real_imag_axis=2,\n",
    "    blur_sigma=blur_sigma,\n",
    "    downsample_ratio=downsample_ratio,\n",
    "    flip_scobj_axes=True,\n",
    ")\n",
    "# Try downsampling since the sparsepolartocartesian step is so slow :((\n",
    "val_eta     = val_wb_dd[\"eta\"]\n",
    "val_scatter = val_wb_dd[\"scatter\"]"
   ]
  },
  {
   "cell_type": "code",
   "execution_count": 11,
   "id": "0363485f-b93b-4d35-9928-1eee1e7a6b0f",
   "metadata": {},
   "outputs": [],
   "source": [
    "val_batch_size = 16\n",
    "val_dataset, val_dloader = setup_tf_dataset(\n",
    "    val_eta,\n",
    "    val_scatter,\n",
    "    batch_size=val_batch_size,\n",
    "    repeats=True,\n",
    ")"
   ]
  },
  {
   "cell_type": "code",
   "execution_count": null,
   "id": "d8844ed2-507d-4ade-88c5-e8973cde4833",
   "metadata": {},
   "outputs": [],
   "source": []
  },
  {
   "cell_type": "code",
   "execution_count": 12,
   "id": "9921b616-aa69-4513-8c79-5b1dd9ed09c0",
   "metadata": {},
   "outputs": [
    {
     "data": {
      "text/plain": [
       "((1000, 192, 192), (1000, 36864, 2, 10))"
      ]
     },
     "execution_count": 12,
     "metadata": {},
     "output_type": "execute_result"
    }
   ],
   "source": [
    "train_eta.shape, train_scatter.shape"
   ]
  },
  {
   "cell_type": "markdown",
   "id": "afa1c82e-62c1-4fc8-9925-2cda81b1d1d9",
   "metadata": {},
   "source": [
    "## Architecture"
   ]
  },
  {
   "cell_type": "code",
   "execution_count": 13,
   "id": "0bf578e5-79e7-4719-939e-76bb60252a1c",
   "metadata": {},
   "outputs": [],
   "source": [
    "N_resnet_layers = 6\n",
    "N_cnn_layers = 9\n",
    "N_cnn_channels = 6\n",
    "# N_cnn_channels = 12\n",
    "kernel_size = 5\n",
    "io_norm = True"
   ]
  },
  {
   "cell_type": "code",
   "execution_count": 14,
   "id": "e5d44ab0-c9a6-4852-8547-18935d0f9235",
   "metadata": {},
   "outputs": [],
   "source": [
    "# utils.load_mats_from_fp(os.path.join(\"tmp\", \"cart_and_rot_mats\", f\"mats_neta{neta}_nx{nx}.npz\"))"
   ]
  },
  {
   "cell_type": "code",
   "execution_count": 15,
   "id": "8b253d55-9982-4f3e-8d7c-1ad095a1ddef",
   "metadata": {},
   "outputs": [
    {
     "name": "stdout",
     "output_type": "stream",
     "text": [
      "Starting at 2025-10-24 21:05:38.123355...\n",
      "CPU times: user 69.4 ms, sys: 137 ms, total: 207 ms\n",
      "Wall time: 211 ms\n"
     ]
    }
   ],
   "source": [
    "%%time\n",
    "from datetime import datetime\n",
    "print(f\"Starting at {datetime.now()}...\")\n",
    "cart_mat, r_index = utils.load_or_create_mats(\n",
    "    neta,\n",
    "    nx,\n",
    "    mats_dir=os.path.join(\"tmp\", \"cart_and_rot_mats\"),\n",
    "    mats_format=\"mats_neta{0}_nx{1}.npz\",\n",
    "    save_if_created=True,\n",
    ")\n",
    "\n",
    "# cart_mat = utils.SparsePolarToCartesian(neta, nx)\n",
    "# r_index  = utils.rotationindex(nx)"
   ]
  },
  {
   "cell_type": "code",
   "execution_count": 16,
   "id": "cfeae054-f6f8-48f1-b9b6-b6cd1bd96145",
   "metadata": {},
   "outputs": [],
   "source": [
    "# import tornado, asyncio\n",
    "# print(tornado.version)"
   ]
  },
  {
   "cell_type": "code",
   "execution_count": 17,
   "id": "2bdbdb02-1def-4feb-bc00-3b22d43a26e9",
   "metadata": {},
   "outputs": [],
   "source": [
    "# asyncio.__name__"
   ]
  },
  {
   "cell_type": "code",
   "execution_count": 18,
   "id": "56c49201-74e3-4b6e-8d94-6cc84ebd9124",
   "metadata": {},
   "outputs": [],
   "source": [
    "# core_module = Uncompressed.UncompressedModelFlexible(\n",
    "#     nx = nx,\n",
    "#     neta = neta,\n",
    "#     cart_mat = cart_mat,\n",
    "#     r_index = r_index,\n",
    "#     # New parameters\n",
    "#     nk=nk,\n",
    "#     N_cnn_layers=N_cnn_layers,\n",
    "#     N_cnn_channels=N_cnn_channels,\n",
    "#     kernel_size=kernel_size,\n",
    "# )\n",
    "\n",
    "core_module = Compressed.CompressedModelFlexible(\n",
    "    L = L,\n",
    "    s = s,\n",
    "    r = r,\n",
    "    # NUM_RESNET = 6,\n",
    "    # NUM_CONV = 9,\n",
    "    cart_mat = cart_mat,\n",
    "    r_index = r_index,\n",
    "    nk=nk,\n",
    "    # Architecture (other than r)\n",
    "    N_resnet_layers=N_resnet_layers,\n",
    "    N_cnn_layers=N_cnn_layers,\n",
    "    N_cnn_channels=N_cnn_channels,\n",
    "    grad_checkpoint=False,\n",
    "    # I/O Normalization?\n",
    "    in_norm=io_norm,\n",
    "    out_norm=io_norm,\n",
    "    in_mean=jnp.array(train_scatter_mean),\n",
    "    in_std=jnp.array(train_scatter_std),\n",
    "    out_mean=jnp.array(train_eta_mean),\n",
    "    out_std=jnp.array(train_eta_std),\n",
    ")"
   ]
  },
  {
   "cell_type": "code",
   "execution_count": 19,
   "id": "5bebee1c-19b6-4bd3-b5b6-e06606f106d3",
   "metadata": {},
   "outputs": [],
   "source": [
    "Model = models.DeterministicModel(\n",
    "    input_shape = train_scatter[0].shape,\n",
    "    core_module = core_module\n",
    ")"
   ]
  },
  {
   "cell_type": "code",
   "execution_count": 20,
   "id": "6f137de2-648d-412f-89e7-f39d048ad8e7",
   "metadata": {},
   "outputs": [
    {
     "name": "stdout",
     "output_type": "stream",
     "text": [
      "Number of trainable parameters: 310987\n"
     ]
    }
   ],
   "source": [
    "rng = jax.random.PRNGKey(888)\n",
    "params = Model.initialize(rng)\n",
    "param_count = sum(x.size for x in jax.tree_util.tree_leaves(params))\n",
    "print('Number of trainable parameters:', param_count)"
   ]
  },
  {
   "cell_type": "code",
   "execution_count": 21,
   "id": "aa0a3731-0586-4865-a5d6-9e321bfca515",
   "metadata": {},
   "outputs": [
    {
     "name": "stdout",
     "output_type": "stream",
     "text": [
      "{'V': {'vr1': (16, 12, 3), 'vi1': (16, 12, 3), 'vr2': (16, 12, 3), 'vi2': (16, 12, 3), 'vr3': (16, 12, 3), 'vi3': (16, 12, 3), 'vr4': (16, 12, 3), 'vi4': (16, 12, 3)}, 'Hs_0': {'hr1': (8, 6, 6), 'hi1': (8, 6, 6), 'hr2': (8, 6, 6), 'hi2': (8, 6, 6), 'hr3': (8, 6, 6), 'hi3': (8, 6, 6), 'hr4': (8, 6, 6), 'hi4': (8, 6, 6)}, 'Hs_1': {'hr1': (8, 6, 6), 'hi1': (8, 6, 6), 'hr2': (8, 6, 6), 'hi2': (8, 6, 6), 'hr3': (8, 6, 6), 'hi3': (8, 6, 6), 'hr4': (8, 6, 6), 'hi4': (8, 6, 6)}, 'Ms_0': {'mr1': (16, 3, 3), 'mi1': (16, 3, 3), 'mr2': (16, 3, 3), 'mi2': (16, 3, 3), 'mr3': (16, 3, 3), 'mi3': (16, 3, 3), 'mr4': (16, 3, 3), 'mi4': (16, 3, 3)}, 'Ms_1': {'mr1': (16, 3, 3), 'mi1': (16, 3, 3), 'mr2': (16, 3, 3), 'mi2': (16, 3, 3), 'mr3': (16, 3, 3), 'mi3': (16, 3, 3), 'mr4': (16, 3, 3), 'mi4': (16, 3, 3)}, 'Ms_2': {'mr1': (16, 3, 3), 'mi1': (16, 3, 3), 'mr2': (16, 3, 3), 'mi2': (16, 3, 3), 'mr3': (16, 3, 3), 'mi3': (16, 3, 3), 'mr4': (16, 3, 3), 'mi4': (16, 3, 3)}, 'Ms_3': {'mr1': (16, 3, 3), 'mi1': (16, 3, 3), 'mr2': (16, 3, 3), 'mi2': (16, 3, 3), 'mr3': (16, 3, 3), 'mi3': (16, 3, 3), 'mr4': (16, 3, 3), 'mi4': (16, 3, 3)}, 'Ms_4': {'mr1': (16, 3, 3), 'mi1': (16, 3, 3), 'mr2': (16, 3, 3), 'mi2': (16, 3, 3), 'mr3': (16, 3, 3), 'mi3': (16, 3, 3), 'mr4': (16, 3, 3), 'mi4': (16, 3, 3)}, 'Ms_5': {'mr1': (16, 3, 3), 'mi1': (16, 3, 3), 'mr2': (16, 3, 3), 'mi2': (16, 3, 3), 'mr3': (16, 3, 3), 'mi3': (16, 3, 3), 'mr4': (16, 3, 3), 'mi4': (16, 3, 3)}, 'Gs_0': {'gi1': (8, 6, 6), 'gi2': (8, 6, 6), 'gi3': (8, 6, 6), 'gi4': (8, 6, 6), 'gr1': (8, 6, 6), 'gr2': (8, 6, 6), 'gr3': (8, 6, 6), 'gr4': (8, 6, 6)}, 'Gs_1': {'gi1': (8, 6, 6), 'gi2': (8, 6, 6), 'gi3': (8, 6, 6), 'gi4': (8, 6, 6), 'gr1': (8, 6, 6), 'gr2': (8, 6, 6), 'gr3': (8, 6, 6), 'gr4': (8, 6, 6)}, 'U': {'ur1': (16, 3, 12), 'ui1': (16, 3, 12), 'ur2': (16, 3, 12), 'ui2': (16, 3, 12), 'ur3': (16, 3, 12), 'ui3': (16, 3, 12), 'ur4': (16, 3, 12), 'ui4': (16, 3, 12)}}\n",
      "{'kernel': (3, 3, 106, 12), 'bias': (12,)}\n"
     ]
    }
   ],
   "source": [
    "def recursive_shape(x, depth_left=100):\n",
    "    if isinstance(x, dict):\n",
    "        return {\n",
    "            k: recursive_shape(v, depth_left=depth_left-1)\n",
    "            for (k,v) in x.items()\n",
    "        }\n",
    "    elif isinstance(x, list):\n",
    "        return [recursive_shape(x_i, depth_left=depth_left-1) for x_i in x]\n",
    "    elif isinstance(x, tuple):\n",
    "        return tuple([recursive_shape(x_i, depth_left=depth_left-1) for x_i in x])\n",
    "    elif isinstance(x, np.ndarray) or isinstance(x, jnp.ndarray):\n",
    "        return x.shape\n",
    "    else:\n",
    "        raise ValueError(f\"Unhandled type {type(x)}\")\n",
    "print(recursive_shape(params[\"params\"][\"fstar_layers_0\"]))\n",
    "print(recursive_shape(params[\"params\"][\"convs_8\"]))"
   ]
  },
  {
   "cell_type": "code",
   "execution_count": 22,
   "id": "14a42193-62e2-409d-a820-cd33a7908704",
   "metadata": {},
   "outputs": [
    {
     "data": {
      "text/plain": [
       "(36864, 2, 10)"
      ]
     },
     "execution_count": 22,
     "metadata": {},
     "output_type": "execute_result"
    }
   ],
   "source": [
    "train_scatter[0].shape"
   ]
  },
  {
   "cell_type": "code",
   "execution_count": 23,
   "id": "2bac17a7-2a9d-4308-9c1f-f7cb357abe7f",
   "metadata": {},
   "outputs": [
    {
     "data": {
      "text/plain": [
       "jax.experimental.sparse.bcoo.BCOO"
      ]
     },
     "execution_count": 23,
     "metadata": {},
     "output_type": "execute_result"
    }
   ],
   "source": [
    "type(cart_mat)"
   ]
  },
  {
   "cell_type": "code",
   "execution_count": 24,
   "id": "48356746-9108-405d-9465-8049869dce4c",
   "metadata": {},
   "outputs": [
    {
     "data": {
      "text/plain": [
       "jaxlib.xla_extension.ArrayImpl"
      ]
     },
     "execution_count": 24,
     "metadata": {},
     "output_type": "execute_result"
    }
   ],
   "source": [
    "type(r_index)"
   ]
  },
  {
   "cell_type": "markdown",
   "id": "0527d33e-3f98-44cb-a242-05dfbe50bf7f",
   "metadata": {},
   "source": [
    "## Training"
   ]
  },
  {
   "cell_type": "code",
   "execution_count": 25,
   "id": "d22872e4-f1f9-4878-92c8-f534a5ab6382",
   "metadata": {},
   "outputs": [],
   "source": [
    "epochs = 500\n",
    "# epochs = 1\n",
    "num_train_steps = NTRAIN * epochs // 16  #@param\n",
    "workdir = os.path.abspath('') + f\"/tmp/2025-10-19_compressed_nx_{nx}_nk_{nk}\"  #@param\n",
    "if os.path.exists(workdir):\n",
    "    import shutil\n",
    "    shutil.rmtree(workdir)\n",
    "initial_lr = 1e-5 #@param\n",
    "# initial_lr = 1e-3\n",
    "peak_lr = 5e-3 #@pawram\n",
    "warmup_steps = num_train_steps // 20  #@param\n",
    "end_lr = 1e-8 #@param\n",
    "ckpt_interval = 2000  #@param\n",
    "max_ckpt_to_keep = 3  #@param"
   ]
  },
  {
   "cell_type": "code",
   "execution_count": 26,
   "id": "0866784c-26de-4783-be04-a6d0705aa9f1",
   "metadata": {},
   "outputs": [],
   "source": [
    "trainer = trainers.DeterministicTrainer(\n",
    "    model=Model,\n",
    "    rng=jax.random.PRNGKey(42),\n",
    "    optimizer=optax.adam(\n",
    "        learning_rate=optax.warmup_cosine_decay_schedule(\n",
    "            init_value=initial_lr,\n",
    "            peak_value=peak_lr,\n",
    "            warmup_steps=warmup_steps,\n",
    "            decay_steps=num_train_steps,\n",
    "            end_value=end_lr,\n",
    "        ),\n",
    "    ),\n",
    ")"
   ]
  },
  {
   "cell_type": "code",
   "execution_count": 27,
   "id": "325e32c8-bdd6-4f8b-aa8e-afdceb7203ba",
   "metadata": {},
   "outputs": [
    {
     "name": "stdout",
     "output_type": "stream",
     "text": [
      "Memory usage associated with a single forward pass...\n",
      "RAM Used (MB): 44052\n",
      "VRAM (MB): 48108 free of 48153 total (within preallocation); usage is currently 45 and peaked at 611\n",
      "RAM Used (MB): 44240\n",
      "VRAM (MB): 48106 free of 48153 total (within preallocation); usage is currently 47 and peaked at 2934\n"
     ]
    }
   ],
   "source": [
    "# untrained_inference_fn = trainers.DeterministicTrainer.build_inference_fn(\n",
    "#     trainer.train_state, core_module\n",
    "# )\n",
    "\n",
    "# print(f\"Memory usage associated with a single forward pass...\")\n",
    "# _ = utils.get_memory_info_jax(device=jax_device, print_msg=True)\n",
    "# # pre-run:     244\n",
    "# # after 16:   2694\n",
    "# # after 32:   5286\n",
    "# # after 64:  10469\n",
    "# # after 128: 20865\n",
    "# trial_batch_size = 16\n",
    "\n",
    "# # first_batch = next(train_dloader)\n",
    "# trial_input = train_wb_dd[\"scatter\"][:trial_batch_size]\n",
    "# trial_output = untrained_inference_fn(trial_input)\n",
    "\n",
    "# _ = utils.get_memory_info_jax(device=jax_device, print_msg=True)\n",
    "\n",
    "# # Okay, so running the forward pass is not a (big) problem"
   ]
  },
  {
   "cell_type": "code",
   "execution_count": 28,
   "id": "b6fdf103-b6f6-4a1b-a04e-e7066dc9bb33",
   "metadata": {},
   "outputs": [
    {
     "name": "stdout",
     "output_type": "stream",
     "text": [
      "RAM Used (MB): 44240\n",
      "VRAM (MB): 48106 free of 48153 total (within preallocation); usage is currently 47 and peaked at 2934\n"
     ]
    },
    {
     "name": "stderr",
     "output_type": "stream",
     "text": [
      "2025-10-24 21:06:29.710557: W external/xla/xla/tsl/framework/bfc_allocator.cc:501] Allocator (GPU_0_bfc) ran out of memory trying to allocate 27.00MiB (rounded to 28311552)requested by op \n",
      "2025-10-24 21:06:29.712224: W external/xla/xla/tsl/framework/bfc_allocator.cc:512] ****************************************************************************************************\n",
      "E1024 21:06:29.712236 2499905 pjrt_stream_executor_client.cc:2839] Execution of replica 0 failed: RESOURCE_EXHAUSTED: Out of memory while trying to allocate 28311552 bytes. [tf-allocator-allocation-error='']\n"
     ]
    },
    {
     "ename": "ValueError",
     "evalue": "RESOURCE_EXHAUSTED: Out of memory while trying to allocate 28311552 bytes.",
     "output_type": "error",
     "traceback": [
      "\u001b[31m---------------------------------------------------------------------------\u001b[39m",
      "\u001b[31mJaxStackTraceBeforeTransformation\u001b[39m         Traceback (most recent call last)",
      "\u001b[36mFile \u001b[39m\u001b[32m/share/data/willett-group/oortsang/miniconda/envs/jaxisp-v3/lib/python3.13/runpy.py:198\u001b[39m, in \u001b[36m_run_module_as_main\u001b[39m\u001b[34m()\u001b[39m\n\u001b[32m    197\u001b[39m     sys.argv[\u001b[32m0\u001b[39m] = mod_spec.origin\n\u001b[32m--> \u001b[39m\u001b[32m198\u001b[39m \u001b[38;5;28;01mreturn\u001b[39;00m _run_code(code, main_globals, \u001b[38;5;28;01mNone\u001b[39;00m,\n\u001b[32m    199\u001b[39m                  \u001b[33m\"\u001b[39m\u001b[33m__main__\u001b[39m\u001b[33m\"\u001b[39m, mod_spec)\n",
      "\u001b[36mFile \u001b[39m\u001b[32m/share/data/willett-group/oortsang/miniconda/envs/jaxisp-v3/lib/python3.13/runpy.py:88\u001b[39m, in \u001b[36m_run_code\u001b[39m\u001b[34m()\u001b[39m\n\u001b[32m     81\u001b[39m run_globals.update(\u001b[34m__name__\u001b[39m = mod_name,\n\u001b[32m     82\u001b[39m                    \u001b[34m__file__\u001b[39m = fname,\n\u001b[32m     83\u001b[39m                    __cached__ = cached,\n\u001b[32m   (...)\u001b[39m\u001b[32m     86\u001b[39m                    __package__ = pkg_name,\n\u001b[32m     87\u001b[39m                    __spec__ = mod_spec)\n\u001b[32m---> \u001b[39m\u001b[32m88\u001b[39m exec(code, run_globals)\n\u001b[32m     89\u001b[39m \u001b[38;5;28;01mreturn\u001b[39;00m run_globals\n",
      "\u001b[36mFile \u001b[39m\u001b[32m/share/data/willett-group/oortsang/miniconda/envs/jaxisp-v3/lib/python3.13/site-packages/ipykernel_launcher.py:18\u001b[39m\n\u001b[32m     16\u001b[39m \u001b[38;5;28;01mfrom\u001b[39;00m\u001b[38;5;250m \u001b[39m\u001b[34;01mipykernel\u001b[39;00m\u001b[38;5;250m \u001b[39m\u001b[38;5;28;01mimport\u001b[39;00m kernelapp \u001b[38;5;28;01mas\u001b[39;00m app\n\u001b[32m---> \u001b[39m\u001b[32m18\u001b[39m app.launch_new_instance()\n",
      "\u001b[36mFile \u001b[39m\u001b[32m/share/data/willett-group/oortsang/miniconda/envs/jaxisp-v3/lib/python3.13/site-packages/traitlets/config/application.py:1075\u001b[39m, in \u001b[36mlaunch_instance\u001b[39m\u001b[34m()\u001b[39m\n\u001b[32m   1074\u001b[39m app.initialize(argv)\n\u001b[32m-> \u001b[39m\u001b[32m1075\u001b[39m app.start()\n",
      "\u001b[36mFile \u001b[39m\u001b[32m/share/data/willett-group/oortsang/miniconda/envs/jaxisp-v3/lib/python3.13/site-packages/ipykernel/kernelapp.py:739\u001b[39m, in \u001b[36mstart\u001b[39m\u001b[34m()\u001b[39m\n\u001b[32m    738\u001b[39m \u001b[38;5;28;01mtry\u001b[39;00m:\n\u001b[32m--> \u001b[39m\u001b[32m739\u001b[39m     \u001b[38;5;28mself\u001b[39m.io_loop.start()\n\u001b[32m    740\u001b[39m \u001b[38;5;28;01mexcept\u001b[39;00m \u001b[38;5;167;01mKeyboardInterrupt\u001b[39;00m:\n",
      "\u001b[36mFile \u001b[39m\u001b[32m/share/data/willett-group/oortsang/miniconda/envs/jaxisp-v3/lib/python3.13/site-packages/tornado/platform/asyncio.py:211\u001b[39m, in \u001b[36mstart\u001b[39m\u001b[34m()\u001b[39m\n\u001b[32m    210\u001b[39m \u001b[38;5;28;01mdef\u001b[39;00m\u001b[38;5;250m \u001b[39m\u001b[34mstart\u001b[39m(\u001b[38;5;28mself\u001b[39m) -> \u001b[38;5;28;01mNone\u001b[39;00m:\n\u001b[32m--> \u001b[39m\u001b[32m211\u001b[39m     \u001b[38;5;28mself\u001b[39m.asyncio_loop.run_forever()\n",
      "\u001b[36mFile \u001b[39m\u001b[32m/share/data/willett-group/oortsang/miniconda/envs/jaxisp-v3/lib/python3.13/asyncio/base_events.py:683\u001b[39m, in \u001b[36mrun_forever\u001b[39m\u001b[34m()\u001b[39m\n\u001b[32m    682\u001b[39m \u001b[38;5;28;01mwhile\u001b[39;00m \u001b[38;5;28;01mTrue\u001b[39;00m:\n\u001b[32m--> \u001b[39m\u001b[32m683\u001b[39m     \u001b[38;5;28mself\u001b[39m._run_once()\n\u001b[32m    684\u001b[39m     \u001b[38;5;28;01mif\u001b[39;00m \u001b[38;5;28mself\u001b[39m._stopping:\n",
      "\u001b[36mFile \u001b[39m\u001b[32m/share/data/willett-group/oortsang/miniconda/envs/jaxisp-v3/lib/python3.13/asyncio/base_events.py:2050\u001b[39m, in \u001b[36m_run_once\u001b[39m\u001b[34m()\u001b[39m\n\u001b[32m   2049\u001b[39m     \u001b[38;5;28;01melse\u001b[39;00m:\n\u001b[32m-> \u001b[39m\u001b[32m2050\u001b[39m         handle._run()\n\u001b[32m   2051\u001b[39m handle = \u001b[38;5;28;01mNone\u001b[39;00m\n",
      "\u001b[36mFile \u001b[39m\u001b[32m/share/data/willett-group/oortsang/miniconda/envs/jaxisp-v3/lib/python3.13/asyncio/events.py:89\u001b[39m, in \u001b[36m_run\u001b[39m\u001b[34m()\u001b[39m\n\u001b[32m     88\u001b[39m \u001b[38;5;28;01mtry\u001b[39;00m:\n\u001b[32m---> \u001b[39m\u001b[32m89\u001b[39m     \u001b[38;5;28mself\u001b[39m._context.run(\u001b[38;5;28mself\u001b[39m._callback, *\u001b[38;5;28mself\u001b[39m._args)\n\u001b[32m     90\u001b[39m \u001b[38;5;28;01mexcept\u001b[39;00m (\u001b[38;5;167;01mSystemExit\u001b[39;00m, \u001b[38;5;167;01mKeyboardInterrupt\u001b[39;00m):\n",
      "\u001b[36mFile \u001b[39m\u001b[32m/share/data/willett-group/oortsang/miniconda/envs/jaxisp-v3/lib/python3.13/site-packages/ipykernel/kernelbase.py:519\u001b[39m, in \u001b[36mdispatch_queue\u001b[39m\u001b[34m()\u001b[39m\n\u001b[32m    518\u001b[39m \u001b[38;5;28;01mtry\u001b[39;00m:\n\u001b[32m--> \u001b[39m\u001b[32m519\u001b[39m     \u001b[38;5;28;01mawait\u001b[39;00m \u001b[38;5;28mself\u001b[39m.process_one()\n\u001b[32m    520\u001b[39m \u001b[38;5;28;01mexcept\u001b[39;00m \u001b[38;5;167;01mException\u001b[39;00m:\n",
      "\u001b[36mFile \u001b[39m\u001b[32m/share/data/willett-group/oortsang/miniconda/envs/jaxisp-v3/lib/python3.13/site-packages/ipykernel/kernelbase.py:508\u001b[39m, in \u001b[36mprocess_one\u001b[39m\u001b[34m()\u001b[39m\n\u001b[32m    506\u001b[39m         \u001b[38;5;28mself\u001b[39m.control_stream.flush()\n\u001b[32m--> \u001b[39m\u001b[32m508\u001b[39m \u001b[38;5;28;01mawait\u001b[39;00m dispatch(*args)\n",
      "\u001b[36mFile \u001b[39m\u001b[32m/share/data/willett-group/oortsang/miniconda/envs/jaxisp-v3/lib/python3.13/site-packages/ipykernel/kernelbase.py:400\u001b[39m, in \u001b[36mdispatch_shell\u001b[39m\u001b[34m()\u001b[39m\n\u001b[32m    399\u001b[39m     \u001b[38;5;28;01mif\u001b[39;00m inspect.isawaitable(result):\n\u001b[32m--> \u001b[39m\u001b[32m400\u001b[39m         \u001b[38;5;28;01mawait\u001b[39;00m result\n\u001b[32m    401\u001b[39m \u001b[38;5;28;01mexcept\u001b[39;00m \u001b[38;5;167;01mException\u001b[39;00m:\n",
      "\u001b[36mFile \u001b[39m\u001b[32m/share/data/willett-group/oortsang/miniconda/envs/jaxisp-v3/lib/python3.13/site-packages/ipykernel/ipkernel.py:368\u001b[39m, in \u001b[36mexecute_request\u001b[39m\u001b[34m()\u001b[39m\n\u001b[32m    367\u001b[39m \u001b[38;5;28mself\u001b[39m._associate_new_top_level_threads_with(parent_header)\n\u001b[32m--> \u001b[39m\u001b[32m368\u001b[39m \u001b[38;5;28;01mawait\u001b[39;00m \u001b[38;5;28msuper\u001b[39m().execute_request(stream, ident, parent)\n",
      "\u001b[36mFile \u001b[39m\u001b[32m/share/data/willett-group/oortsang/miniconda/envs/jaxisp-v3/lib/python3.13/site-packages/ipykernel/kernelbase.py:767\u001b[39m, in \u001b[36mexecute_request\u001b[39m\u001b[34m()\u001b[39m\n\u001b[32m    766\u001b[39m \u001b[38;5;28;01mif\u001b[39;00m inspect.isawaitable(reply_content):\n\u001b[32m--> \u001b[39m\u001b[32m767\u001b[39m     reply_content = \u001b[38;5;28;01mawait\u001b[39;00m reply_content\n\u001b[32m    769\u001b[39m \u001b[38;5;66;03m# Flush output before sending the reply.\u001b[39;00m\n",
      "\u001b[36mFile \u001b[39m\u001b[32m/share/data/willett-group/oortsang/miniconda/envs/jaxisp-v3/lib/python3.13/site-packages/ipykernel/ipkernel.py:455\u001b[39m, in \u001b[36mdo_execute\u001b[39m\u001b[34m()\u001b[39m\n\u001b[32m    454\u001b[39m \u001b[38;5;28;01mif\u001b[39;00m accepts_params[\u001b[33m\"\u001b[39m\u001b[33mcell_id\u001b[39m\u001b[33m\"\u001b[39m]:\n\u001b[32m--> \u001b[39m\u001b[32m455\u001b[39m     res = shell.run_cell(\n\u001b[32m    456\u001b[39m         code,\n\u001b[32m    457\u001b[39m         store_history=store_history,\n\u001b[32m    458\u001b[39m         silent=silent,\n\u001b[32m    459\u001b[39m         cell_id=cell_id,\n\u001b[32m    460\u001b[39m     )\n\u001b[32m    461\u001b[39m \u001b[38;5;28;01melse\u001b[39;00m:\n",
      "\u001b[36mFile \u001b[39m\u001b[32m/share/data/willett-group/oortsang/miniconda/envs/jaxisp-v3/lib/python3.13/site-packages/ipykernel/zmqshell.py:577\u001b[39m, in \u001b[36mrun_cell\u001b[39m\u001b[34m()\u001b[39m\n\u001b[32m    576\u001b[39m \u001b[38;5;28mself\u001b[39m._last_traceback = \u001b[38;5;28;01mNone\u001b[39;00m\n\u001b[32m--> \u001b[39m\u001b[32m577\u001b[39m \u001b[38;5;28;01mreturn\u001b[39;00m \u001b[38;5;28msuper\u001b[39m().run_cell(*args, **kwargs)\n",
      "\u001b[36mFile \u001b[39m\u001b[32m/share/data/willett-group/oortsang/miniconda/envs/jaxisp-v3/lib/python3.13/site-packages/IPython/core/interactiveshell.py:3116\u001b[39m, in \u001b[36mrun_cell\u001b[39m\u001b[34m()\u001b[39m\n\u001b[32m   3115\u001b[39m \u001b[38;5;28;01mtry\u001b[39;00m:\n\u001b[32m-> \u001b[39m\u001b[32m3116\u001b[39m     result = \u001b[38;5;28mself\u001b[39m._run_cell(\n\u001b[32m   3117\u001b[39m         raw_cell, store_history, silent, shell_futures, cell_id\n\u001b[32m   3118\u001b[39m     )\n\u001b[32m   3119\u001b[39m \u001b[38;5;28;01mfinally\u001b[39;00m:\n",
      "\u001b[36mFile \u001b[39m\u001b[32m/share/data/willett-group/oortsang/miniconda/envs/jaxisp-v3/lib/python3.13/site-packages/IPython/core/interactiveshell.py:3171\u001b[39m, in \u001b[36m_run_cell\u001b[39m\u001b[34m()\u001b[39m\n\u001b[32m   3170\u001b[39m \u001b[38;5;28;01mtry\u001b[39;00m:\n\u001b[32m-> \u001b[39m\u001b[32m3171\u001b[39m     result = runner(coro)\n\u001b[32m   3172\u001b[39m \u001b[38;5;28;01mexcept\u001b[39;00m \u001b[38;5;167;01mBaseException\u001b[39;00m \u001b[38;5;28;01mas\u001b[39;00m e:\n",
      "\u001b[36mFile \u001b[39m\u001b[32m/share/data/willett-group/oortsang/miniconda/envs/jaxisp-v3/lib/python3.13/site-packages/IPython/core/async_helpers.py:128\u001b[39m, in \u001b[36m_pseudo_sync_runner\u001b[39m\u001b[34m()\u001b[39m\n\u001b[32m    127\u001b[39m \u001b[38;5;28;01mtry\u001b[39;00m:\n\u001b[32m--> \u001b[39m\u001b[32m128\u001b[39m     coro.send(\u001b[38;5;28;01mNone\u001b[39;00m)\n\u001b[32m    129\u001b[39m \u001b[38;5;28;01mexcept\u001b[39;00m \u001b[38;5;167;01mStopIteration\u001b[39;00m \u001b[38;5;28;01mas\u001b[39;00m exc:\n",
      "\u001b[36mFile \u001b[39m\u001b[32m/share/data/willett-group/oortsang/miniconda/envs/jaxisp-v3/lib/python3.13/site-packages/IPython/core/interactiveshell.py:3394\u001b[39m, in \u001b[36mrun_cell_async\u001b[39m\u001b[34m()\u001b[39m\n\u001b[32m   3391\u001b[39m interactivity = \u001b[33m\"\u001b[39m\u001b[33mnone\u001b[39m\u001b[33m\"\u001b[39m \u001b[38;5;28;01mif\u001b[39;00m silent \u001b[38;5;28;01melse\u001b[39;00m \u001b[38;5;28mself\u001b[39m.ast_node_interactivity\n\u001b[32m-> \u001b[39m\u001b[32m3394\u001b[39m has_raised = \u001b[38;5;28;01mawait\u001b[39;00m \u001b[38;5;28mself\u001b[39m.run_ast_nodes(code_ast.body, cell_name,\n\u001b[32m   3395\u001b[39m        interactivity=interactivity, compiler=compiler, result=result)\n\u001b[32m   3397\u001b[39m \u001b[38;5;28mself\u001b[39m.last_execution_succeeded = \u001b[38;5;129;01mnot\u001b[39;00m has_raised\n",
      "\u001b[36mFile \u001b[39m\u001b[32m/share/data/willett-group/oortsang/miniconda/envs/jaxisp-v3/lib/python3.13/site-packages/IPython/core/interactiveshell.py:3639\u001b[39m, in \u001b[36mrun_ast_nodes\u001b[39m\u001b[34m()\u001b[39m\n\u001b[32m   3638\u001b[39m     asy = compare(code)\n\u001b[32m-> \u001b[39m\u001b[32m3639\u001b[39m \u001b[38;5;28;01mif\u001b[39;00m \u001b[38;5;28;01mawait\u001b[39;00m \u001b[38;5;28mself\u001b[39m.run_code(code, result, async_=asy):\n\u001b[32m   3640\u001b[39m     \u001b[38;5;28;01mreturn\u001b[39;00m \u001b[38;5;28;01mTrue\u001b[39;00m\n",
      "\u001b[36mFile \u001b[39m\u001b[32m/share/data/willett-group/oortsang/miniconda/envs/jaxisp-v3/lib/python3.13/site-packages/IPython/core/interactiveshell.py:3699\u001b[39m, in \u001b[36mrun_code\u001b[39m\u001b[34m()\u001b[39m\n\u001b[32m   3698\u001b[39m     \u001b[38;5;28;01melse\u001b[39;00m:\n\u001b[32m-> \u001b[39m\u001b[32m3699\u001b[39m         exec(code_obj, \u001b[38;5;28mself\u001b[39m.user_global_ns, \u001b[38;5;28mself\u001b[39m.user_ns)\n\u001b[32m   3700\u001b[39m \u001b[38;5;28;01mfinally\u001b[39;00m:\n\u001b[32m   3701\u001b[39m     \u001b[38;5;66;03m# Reset our crash handler in place\u001b[39;00m\n",
      "\u001b[36mCell\u001b[39m\u001b[36m \u001b[39m\u001b[32mIn[28]\u001b[39m\u001b[32m, line 5\u001b[39m\n\u001b[32m      4\u001b[39m trial_loss_fn_cp = jax.checkpoint(trial_loss_fn)\n\u001b[32m----> \u001b[39m\u001b[32m5\u001b[39m grads = jax.grad(trial_loss_fn_cp)(params, trial_input)\n\u001b[32m      6\u001b[39m \u001b[38;5;66;03m# grads = jax.grad(trial_loss_fn)(params, trial_input)\u001b[39;00m\n",
      "\u001b[36mCell\u001b[39m\u001b[36m \u001b[39m\u001b[32mIn[28]\u001b[39m\u001b[32m, line 3\u001b[39m, in \u001b[36mtrial_loss_fn\u001b[39m\u001b[34m()\u001b[39m\n\u001b[32m      2\u001b[39m \u001b[38;5;28;01mdef\u001b[39;00m\u001b[38;5;250m \u001b[39m\u001b[34mtrial_loss_fn\u001b[39m(params, x):\n\u001b[32m----> \u001b[39m\u001b[32m3\u001b[39m     \u001b[38;5;28;01mreturn\u001b[39;00m jnp.linalg.norm(core_module.apply(params, x))\n",
      "\u001b[36mFile \u001b[39m\u001b[32m/share/data/willett-group/oortsang/ISP_baseline_fork/ISP_baseline/models/Compressed.py:599\u001b[39m, in \u001b[36m__call__\u001b[39m\u001b[34m()\u001b[39m\n\u001b[32m    584\u001b[39m     inputs = (inputs - self.in_mean) / self.in_std # will the axes work out?\n\u001b[32m    586\u001b[39m # Process each channel separately using Fstar layers\n\u001b[32m    587\u001b[39m # and concatenate outputs along channel dimension\n\u001b[32m    588\u001b[39m # OOT TODO: if this is too slow, consider pmap?\n\u001b[32m    589\u001b[39m # jax.debug.print(f\"Inputs shape: {inputs.shape}\")\n\u001b[32m    590\u001b[39m # if self.grad_checkpoint:\n\u001b[32m    591\u001b[39m #     y = jnp.concatenate(\n\u001b[32m    592\u001b[39m #         [\n\u001b[32m    593\u001b[39m #             jax.checkpoint(self.fstar_layers[i].__call__)(inputs[:, :, :, i])\n\u001b[32m    594\u001b[39m #             for i in range(self.nk)\n\u001b[32m    595\u001b[39m #         ],\n\u001b[32m    596\u001b[39m #         axis=-1,\n\u001b[32m    597\u001b[39m #     )\n\u001b[32m    598\u001b[39m # else:\n\u001b[32m--> \u001b[39m\u001b[32m599\u001b[39m #     y = jnp.concatenate(\n\u001b[32m    600\u001b[39m #         [\n\u001b[32m    601\u001b[39m #             self.fstar_layers[i](inputs[:, :, :, i])\n\u001b[32m    602\u001b[39m #             for i in range(self.nk)\n\u001b[32m    603\u001b[39m #         ],\n\u001b[32m    604\u001b[39m #      )\n\u001b[32m    605\u001b[39m y = jnp.concatenate(\n\u001b[32m    606\u001b[39m     [\n\u001b[32m    607\u001b[39m         self.fstar_layers[i](\n\u001b[32m   (...)\u001b[39m\u001b[32m    613\u001b[39m     axis=-1,\n\u001b[32m    614\u001b[39m )\n",
      "\u001b[36mFile \u001b[39m\u001b[32m/share/data/willett-group/oortsang/ISP_baseline_fork/ISP_baseline/models/Compressed.py:415\u001b[39m, in \u001b[36m__call__\u001b[39m\u001b[34m()\u001b[39m\n\u001b[32m    413\u001b[39m \u001b[38;5;28;01mfor\u001b[39;00m m \u001b[38;5;129;01min\u001b[39;00m \u001b[38;5;28mself\u001b[39m.Ms:\n\u001b[32m    414\u001b[39m     \u001b[38;5;66;03m# For the last M module, apply directly; for others, add a residual connection with ReLU.\u001b[39;00m\n\u001b[32m--> \u001b[39m\u001b[32m415\u001b[39m     y = m(y) \u001b[38;5;28;01mif\u001b[39;00m m \u001b[38;5;129;01mis\u001b[39;00m \u001b[38;5;28mself\u001b[39m.Ms[-\u001b[32m1\u001b[39m] \u001b[38;5;28;01melse\u001b[39;00m y + nn.relu(m(y))\n\u001b[32m    416\u001b[39m \u001b[38;5;66;03m# jax.debug.print(f\"post-switchresnet: y.shape={y.shape}\")\u001b[39;00m\n\u001b[32m    417\u001b[39m \n\u001b[32m    418\u001b[39m \u001b[38;5;66;03m# Sequentially apply each G module.\u001b[39;00m\n",
      "\u001b[36mFile \u001b[39m\u001b[32m/share/data/willett-group/oortsang/ISP_baseline_fork/ISP_baseline/models/Compressed.py:238\u001b[39m, in \u001b[36m__call__\u001b[39m\u001b[34m()\u001b[39m\n\u001b[32m    237\u001b[39m y_im_3 = jnp.einsum(\u001b[33m'\u001b[39m\u001b[33mabj...i,bjk->abk...i\u001b[39m\u001b[33m'\u001b[39m, y_im_3, mr4)\n\u001b[32m--> \u001b[39m\u001b[32m238\u001b[39m y_im_4 = jnp.einsum(\u001b[33m'\u001b[39m\u001b[33m...iaj,ajk->...iak\u001b[39m\u001b[33m'\u001b[39m, x_re, mr4)\n\u001b[32m    239\u001b[39m y_im_4 = jnp.einsum(\u001b[33m'\u001b[39m\u001b[33mabj...i,bjk->abk...i\u001b[39m\u001b[33m'\u001b[39m, y_im_4, mi4)\n",
      "\u001b[36mFile \u001b[39m\u001b[32m/share/data/willett-group/oortsang/miniconda/envs/jaxisp-v3/lib/python3.13/site-packages/jax/_src/numpy/einsum.py:315\u001b[39m, in \u001b[36meinsum\u001b[39m\u001b[34m()\u001b[39m\n\u001b[32m    314\u001b[39m operand_arrays = \u001b[38;5;28mlist\u001b[39m(util.ensure_arraylike_tuple(\u001b[33m\"\u001b[39m\u001b[33meinsum\u001b[39m\u001b[33m\"\u001b[39m, operands))\n\u001b[32m--> \u001b[39m\u001b[32m315\u001b[39m \u001b[38;5;28;01mreturn\u001b[39;00m jit_einsum(operand_arrays, contractions, precision,\n\u001b[32m    316\u001b[39m                   preferred_element_type, _dot_general, out_sharding)\n",
      "\u001b[36mFile \u001b[39m\u001b[32m/share/data/willett-group/oortsang/miniconda/envs/jaxisp-v3/lib/python3.13/contextlib.py:85\u001b[39m, in \u001b[36minner\u001b[39m\u001b[34m()\u001b[39m\n\u001b[32m     84\u001b[39m \u001b[38;5;28;01mwith\u001b[39;00m \u001b[38;5;28mself\u001b[39m._recreate_cm():\n\u001b[32m---> \u001b[39m\u001b[32m85\u001b[39m     \u001b[38;5;28;01mreturn\u001b[39;00m func(*args, **kwds)\n",
      "\u001b[31mJaxStackTraceBeforeTransformation\u001b[39m: ValueError: RESOURCE_EXHAUSTED: Out of memory while trying to allocate 28311552 bytes.\n\nThe preceding stack trace is the source of the JAX operation that, once transformed by JAX, triggered the following exception.\n\n--------------------",
      "\nThe above exception was the direct cause of the following exception:\n",
      "\u001b[31mValueError\u001b[39m                                Traceback (most recent call last)",
      "\u001b[36mCell\u001b[39m\u001b[36m \u001b[39m\u001b[32mIn[28]\u001b[39m\u001b[32m, line 5\u001b[39m\n\u001b[32m      3\u001b[39m     \u001b[38;5;28;01mreturn\u001b[39;00m jnp.linalg.norm(core_module.apply(params, x))\n\u001b[32m      4\u001b[39m trial_loss_fn_cp = jax.checkpoint(trial_loss_fn)\n\u001b[32m----> \u001b[39m\u001b[32m5\u001b[39m grads = \u001b[43mjax\u001b[49m\u001b[43m.\u001b[49m\u001b[43mgrad\u001b[49m\u001b[43m(\u001b[49m\u001b[43mtrial_loss_fn_cp\u001b[49m\u001b[43m)\u001b[49m\u001b[43m(\u001b[49m\u001b[43mparams\u001b[49m\u001b[43m,\u001b[49m\u001b[43m \u001b[49m\u001b[43mtrial_input\u001b[49m\u001b[43m)\u001b[49m\n\u001b[32m      6\u001b[39m \u001b[38;5;66;03m# grads = jax.grad(trial_loss_fn)(params, trial_input)\u001b[39;00m\n\u001b[32m      7\u001b[39m _ = utils.get_memory_info_jax(device=jax_device, print_msg=\u001b[38;5;28;01mTrue\u001b[39;00m)\n",
      "    \u001b[31m[... skipping hidden 21 frame]\u001b[39m\n",
      "\u001b[36mFile \u001b[39m\u001b[32m/share/data/willett-group/oortsang/miniconda/envs/jaxisp-v3/lib/python3.13/site-packages/jax/_src/dispatch.py:89\u001b[39m, in \u001b[36mapply_primitive\u001b[39m\u001b[34m(prim, *args, **params)\u001b[39m\n\u001b[32m     87\u001b[39m prev = lib.jax_jit.swap_thread_local_state_disable_jit(\u001b[38;5;28;01mFalse\u001b[39;00m)\n\u001b[32m     88\u001b[39m \u001b[38;5;28;01mtry\u001b[39;00m:\n\u001b[32m---> \u001b[39m\u001b[32m89\u001b[39m   outs = \u001b[43mfun\u001b[49m\u001b[43m(\u001b[49m\u001b[43m*\u001b[49m\u001b[43margs\u001b[49m\u001b[43m)\u001b[49m\n\u001b[32m     90\u001b[39m \u001b[38;5;28;01mfinally\u001b[39;00m:\n\u001b[32m     91\u001b[39m   lib.jax_jit.swap_thread_local_state_disable_jit(prev)\n",
      "\u001b[31mValueError\u001b[39m: RESOURCE_EXHAUSTED: Out of memory while trying to allocate 28311552 bytes."
     ]
    }
   ],
   "source": [
    "# _ = utils.get_memory_info_jax(device=jax_device, print_msg=True)\n",
    "# def trial_loss_fn(params, x):\n",
    "#     return jnp.linalg.norm(core_module.apply(params, x))\n",
    "# trial_loss_fn_cp = jax.checkpoint(trial_loss_fn)\n",
    "# grads = jax.grad(trial_loss_fn_cp)(params, trial_input)\n",
    "# # grads = jax.grad(trial_loss_fn)(params, trial_input)\n",
    "# _ = utils.get_memory_info_jax(device=jax_device, print_msg=True)\n",
    "# print(grads[\"params\"].keys())\n",
    "# _ = utils.get_memory_info_jax(device=jax_device, print_msg=True)"
   ]
  },
  {
   "cell_type": "code",
   "execution_count": null,
   "id": "87062a7b-e08a-4ad2-adf3-59d09a21cd85",
   "metadata": {},
   "outputs": [],
   "source": [
    "_ = utils.get_memory_info_jax(device=jax_device, print_msg=True)"
   ]
  },
  {
   "cell_type": "code",
   "execution_count": null,
   "id": "1f586164-2df6-426a-9d2a-4ff449e53e7d",
   "metadata": {},
   "outputs": [],
   "source": []
  },
  {
   "cell_type": "code",
   "execution_count": 30,
   "id": "871da1de-dd7c-4cec-964e-b5f7b5c8bf84",
   "metadata": {},
   "outputs": [
    {
     "data": {
      "text/plain": [
       "(16, 36864, 2, 10)"
      ]
     },
     "execution_count": 30,
     "metadata": {},
     "output_type": "execute_result"
    }
   ],
   "source": [
    "trial_input.shape\n",
    "\n",
    "# sdfasdfasd"
   ]
  },
  {
   "cell_type": "code",
   "execution_count": null,
   "id": "a904f8c1-995e-46d4-b640-69e3907ce5a2",
   "metadata": {},
   "outputs": [
    {
     "name": "stdout",
     "output_type": "stream",
     "text": [
      "RAM Used (MB): 44484\n",
      "VRAM (MB): 48104 free of 48153 total (within preallocation); usage is currently 49 and peaked at 9259\n"
     ]
    },
    {
     "data": {
      "application/vnd.jupyter.widget-view+json": {
       "model_id": "16375fb978604e5d821952c2c4bacef5",
       "version_major": 2,
       "version_minor": 0
      },
      "text/plain": [
       "  0%|          | 0/31250 [00:00<?, ?step/s]"
      ]
     },
     "metadata": {},
     "output_type": "display_data"
    }
   ],
   "source": [
    "utils.get_memory_info_jax(jax_device, print_msg=True)\n",
    "\n",
    "# eval_dloader = train_dloader\n",
    "eval_dloader = val_dloader\n",
    "templates.run_train(\n",
    "    train_dataloader=train_dloader,\n",
    "    trainer=trainer,\n",
    "    workdir=workdir,\n",
    "    total_train_steps=num_train_steps,\n",
    "    metric_writer=metric_writers.create_default_writer(\n",
    "        workdir, asynchronous=False\n",
    "    ),\n",
    "    metric_aggregation_steps=10,\n",
    "    eval_dataloader=eval_dloader,\n",
    "    eval_every_steps = 100,\n",
    "    num_batches_per_eval = 1,\n",
    "    callbacks=(\n",
    "        # templates.ProgressReport(\n",
    "        #     total_train_steps=num_train_steps,\n",
    "        #     every_steps=None,\n",
    "        #     eval_secs=60,\n",
    "        # ),\n",
    "        templates.TqdmProgressBar(\n",
    "            total_train_steps=num_train_steps,\n",
    "            train_monitors=(\"train_loss\",),\n",
    "            eval_monitors=(\"eval_rrmse_mean\", \"eval_rel_l2_mean\"),\n",
    "        ),\n",
    "        templates.TrainStateCheckpoint(\n",
    "            base_dir=workdir,\n",
    "            options=ocp.CheckpointManagerOptions(\n",
    "                save_interval_steps=ckpt_interval, max_to_keep=max_ckpt_to_keep\n",
    "            ),\n",
    "        ),\n",
    "    ),\n",
    ")\n",
    "_ = utils.get_memory_info_jax(jax_device, print_msg=True)"
   ]
  },
  {
   "cell_type": "markdown",
   "id": "1cb202d0-07f8-462f-8a10-7cee8d30dca5",
   "metadata": {},
   "source": [
    "## Inference"
   ]
  },
  {
   "cell_type": "code",
   "execution_count": null,
   "id": "41be1aeb-2023-45d9-a9b0-c045968ba402",
   "metadata": {},
   "outputs": [],
   "source": [
    "trained_state = trainers.TrainState.restore_from_orbax_ckpt(\n",
    "    f\"{workdir}/checkpoints\", step=None\n",
    ")\n",
    "\n",
    "inference_fn = trainers.DeterministicTrainer.build_inference_fn(\n",
    "    trained_state, core_module\n",
    ")"
   ]
  },
  {
   "cell_type": "code",
   "execution_count": null,
   "id": "3ff7d13a-fba7-4556-ab56-24315fe0db81",
   "metadata": {},
   "outputs": [],
   "source": [
    "NTEST = 100\n",
    "\n",
    "test_dirs = get_multifreq_dset_dirs(\n",
    "    \"test\",\n",
    "    kbar_str_list,\n",
    "    base_dir=dataset_dir,\n",
    "    dir_fmt=\"{0}_measurements_nu_{1}\"\n",
    ")\n",
    "\n",
    "test_mfisnet_dd = load_cart_multifreq_dataset(\n",
    "    test_dirs,\n",
    "    global_idx_start=0,\n",
    "    global_idx_end=NTEST,\n",
    ")\n",
    "print(f\"Loaded: {', '.join([f'{key}{val.shape}' for (key, val) in test_mfisnet_dd.items()])}\")\n",
    "test_wb_dd = convert_mfisnet_data_dict(\n",
    "    test_mfisnet_dd, \n",
    "    blur_sigma=blur_sigma,\n",
    "    downsample_ratio=downsample_ratio,\n",
    "    flip_scobj_axes=True,\n",
    ")\n",
    "\n",
    "# Try downsampling since the sparsepolartocartesian step is so slow :((\n",
    "test_eta     = test_wb_dd[\"eta\"] # [..., ::2, ::2]\n",
    "test_scatter = test_wb_dd[\"scatter\"] # [..., ::2, ::2, :]"
   ]
  },
  {
   "cell_type": "code",
   "execution_count": null,
   "id": "4c0728c6-9803-4ee5-a349-f8807e78d83e",
   "metadata": {},
   "outputs": [],
   "source": [
    "test_batch_size = 16\n",
    "test_dataset, test_dloader = setup_tf_dataset(\n",
    "    test_eta,\n",
    "    test_scatter,\n",
    "    # val_eta,\n",
    "    # val_scatter,\n",
    "    batch_size=test_batch_size,\n",
    ")"
   ]
  },
  {
   "cell_type": "code",
   "execution_count": null,
   "id": "290e3cfa-b713-4b2f-9bdd-d4565ab42e8e",
   "metadata": {},
   "outputs": [],
   "source": [
    "validation_errors_rrmse = []\n",
    "validation_errors_rel_l2 = []\n",
    "validation_errors_rapsd = []\n",
    "pred_eta = np.zeros(test_eta.shape)\n",
    "\n",
    "rrmse = functools.partial(\n",
    "    metrics.mean_squared_error,\n",
    "    sum_axes=(-1, -2),\n",
    "    relative=True,\n",
    "    squared=False,\n",
    ")\n",
    "rel_l2 = functools.partial(\n",
    "    l2_error,\n",
    "    l2_axes=(-1, -2),\n",
    "    relative=True,\n",
    "    squared=False,\n",
    ")\n",
    "\n",
    "# for b, batch in enumerate(test_dloader):\n",
    "for b, batch in enumerate(val_dloader):\n",
    "    # pred = inference_fn(batch[0])\n",
    "    pred = inference_fn(batch[\"scatter\"])\n",
    "    batch_slice = np.s_[b*val_batch_size: (b+1)*val_batch_size, :, :]\n",
    "    pred_eta[batch_slice] = pred\n",
    "    true = batch[\"eta\"]\n",
    "    validation_errors_rrmse.append(rrmse(pred=pred, true=true))\n",
    "    validation_errors_rel_l2.append(rel_l2(pred=pred, true=true))\n",
    "    for i in range(true.shape[0]):\n",
    "        validation_errors_rapsd.append(np.abs(np.log(rapsd(pred[i],fft_method=np.fft)/rapsd(true[i],fft_method=np.fft))))\n",
    "\n",
    "print(f\"Mean rel l2 error: {np.mean(validation_errors_rel_l2)*100:.3f}%\")\n",
    "print('relative root-mean-square error = %.3f' % (np.mean(validation_errors_rrmse)*100), '%') \n",
    "print('mean energy log ratio = %.3f' % np.mean(validation_errors_rapsd)) "
   ]
  },
  {
   "cell_type": "code",
   "execution_count": null,
   "id": "e7008cb5-e3bd-4c74-82c7-7cdc21b49fe2",
   "metadata": {},
   "outputs": [],
   "source": []
  },
  {
   "cell_type": "code",
   "execution_count": null,
   "id": "7fb067c7-765d-453e-b605-e9bdc3f50417",
   "metadata": {},
   "outputs": [],
   "source": [
    "# test_data_path = os.path.abspath('../..') + '/data/10hsquares_testdata'\n",
    "# test_data_path = os.path.join(\"data\", \"testdata\")\n",
    "\n",
    "# with h5py.File(f'{test_data_path}/eta.h5', 'r') as f:\n",
    "#     # Read eta data, apply Gaussian blur, and reshape\n",
    "#     eta_re = f[list(f.keys())[0]][:, :].reshape(-1, neta, neta)\n",
    "#     blur_fn = lambda x: gaussian_filter(x, sigma=blur_sigma)\n",
    "#     eta_test = np.stack([blur_fn(img.T) for img in eta_re]).astype('float32')\n",
    "    \n",
    "# # Loading and preprocessing scatter data (Lambda)\n",
    "# # with h5py.File(f'{test_data_path}/scatter_order_8.h5', 'r') as f:\n",
    "# with h5py.File(f'{test_data_path}/scatter.h5', 'r') as f:\n",
    "#     keys = natsort.natsorted(f.keys())\n",
    "\n",
    "#     # Process real part of scatter data\n",
    "#     tmp1 = f[keys[3]][:, :]\n",
    "#     tmp2 = f[keys[4]][:, :]\n",
    "#     tmp3 = f[keys[5]][:, :]\n",
    "#     scatter_re = np.stack((tmp1, tmp2, tmp3), axis=-1)\n",
    "\n",
    "#     # Process imaginary part of scatter data\n",
    "#     tmp1 = f[keys[0]][:, :]\n",
    "#     tmp2 = f[keys[1]][:, :]\n",
    "#     tmp3 = f[keys[2]][:, :]\n",
    "#     scatter_im = np.stack((tmp1, tmp2, tmp3), axis=-1)\n",
    "    \n",
    "#     # Combine real and imaginary parts\n",
    "#     scatter_test = np.stack((scatter_re, scatter_im), axis=1).astype('float32')\n",
    "    \n",
    "# # Clean up temporary variables to free memory\n",
    "# del scatter_re, scatter_im, tmp1, tmp2, tmp3\n"
   ]
  },
  {
   "cell_type": "code",
   "execution_count": null,
   "id": "a3c916a4-790c-4dd5-b205-00d18555a72e",
   "metadata": {},
   "outputs": [],
   "source": []
  },
  {
   "cell_type": "code",
   "execution_count": null,
   "id": "26eed1d5-22f7-4b2f-a289-ad382e384903",
   "metadata": {},
   "outputs": [],
   "source": []
  },
  {
   "cell_type": "code",
   "execution_count": null,
   "id": "18d9a0d4-6781-4481-8d15-331f02b06641",
   "metadata": {},
   "outputs": [],
   "source": []
  }
 ],
 "metadata": {
  "kernelspec": {
   "display_name": "jaxisp-v3",
   "language": "python",
   "name": "jaxisp-v3"
  },
  "language_info": {
   "codemirror_mode": {
    "name": "ipython",
    "version": 3
   },
   "file_extension": ".py",
   "mimetype": "text/x-python",
   "name": "python",
   "nbconvert_exporter": "python",
   "pygments_lexer": "ipython3",
   "version": "3.13.7"
  }
 },
 "nbformat": 4,
 "nbformat_minor": 5
}
